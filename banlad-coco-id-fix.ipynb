{
 "cells": [
  {
   "cell_type": "code",
   "execution_count": 1,
   "id": "c83490c5",
   "metadata": {
    "_cell_guid": "b1076dfc-b9ad-4769-8c92-a6c4dae69d19",
    "_uuid": "8f2839f25d086af736a60e9eeb907d3b93b6e0e5",
    "execution": {
     "iopub.execute_input": "2024-04-10T12:56:23.007051Z",
     "iopub.status.busy": "2024-04-10T12:56:23.006192Z",
     "iopub.status.idle": "2024-04-10T12:56:23.747967Z",
     "shell.execute_reply": "2024-04-10T12:56:23.746924Z"
    },
    "papermill": {
     "duration": 0.752134,
     "end_time": "2024-04-10T12:56:23.750668",
     "exception": false,
     "start_time": "2024-04-10T12:56:22.998534",
     "status": "completed"
    },
    "tags": []
   },
   "outputs": [],
   "source": [
    "# This Python 3 environment comes with many helpful analytics libraries installed\n",
    "# It is defined by the kaggle/python Docker image: https://github.com/kaggle/docker-python\n",
    "# For example, here's several helpful packages to load\n",
    "\n",
    "import numpy as np # linear algebra\n",
    "import pandas as pd # data processing, CSV file I/O (e.g. pd.read_csv)\n",
    "\n",
    "import os\n"
   ]
  },
  {
   "cell_type": "code",
   "execution_count": 2,
   "id": "b05ab209",
   "metadata": {
    "execution": {
     "iopub.execute_input": "2024-04-10T12:56:23.763475Z",
     "iopub.status.busy": "2024-04-10T12:56:23.762616Z",
     "iopub.status.idle": "2024-04-10T12:56:25.105726Z",
     "shell.execute_reply": "2024-04-10T12:56:25.104697Z"
    },
    "papermill": {
     "duration": 1.351942,
     "end_time": "2024-04-10T12:56:25.108224",
     "exception": false,
     "start_time": "2024-04-10T12:56:23.756282",
     "status": "completed"
    },
    "tags": []
   },
   "outputs": [
    {
     "name": "stdout",
     "output_type": "stream",
     "text": [
      "/kaggle/input/newspaperlayoutfinal/kaggle/working/badlad2/image/modified_coco.json\r\n"
     ]
    }
   ],
   "source": [
    "!ls /kaggle/input/newspaperlayoutfinal/kaggle/working/badlad2/image/*.json"
   ]
  },
  {
   "cell_type": "code",
   "execution_count": 3,
   "id": "8aff7636",
   "metadata": {
    "execution": {
     "iopub.execute_input": "2024-04-10T12:56:25.121810Z",
     "iopub.status.busy": "2024-04-10T12:56:25.120972Z",
     "iopub.status.idle": "2024-04-10T12:56:31.138573Z",
     "shell.execute_reply": "2024-04-10T12:56:31.137677Z"
    },
    "papermill": {
     "duration": 6.026863,
     "end_time": "2024-04-10T12:56:31.140837",
     "exception": false,
     "start_time": "2024-04-10T12:56:25.113974",
     "status": "completed"
    },
    "tags": []
   },
   "outputs": [],
   "source": [
    "import json\n",
    "data = json.load(open(r'/kaggle/input/newspaperlayoutfinal/kaggle/working/badlad2/image/modified_coco.json'))"
   ]
  },
  {
   "cell_type": "code",
   "execution_count": 4,
   "id": "e3ab0bfc",
   "metadata": {
    "execution": {
     "iopub.execute_input": "2024-04-10T12:56:31.153520Z",
     "iopub.status.busy": "2024-04-10T12:56:31.152733Z",
     "iopub.status.idle": "2024-04-10T12:56:31.161386Z",
     "shell.execute_reply": "2024-04-10T12:56:31.160425Z"
    },
    "papermill": {
     "duration": 0.017084,
     "end_time": "2024-04-10T12:56:31.163500",
     "exception": false,
     "start_time": "2024-04-10T12:56:31.146416",
     "status": "completed"
    },
    "tags": []
   },
   "outputs": [],
   "source": [
    "from glob import glob\n",
    "paths_img = glob('/kaggle/input/newspaperlayoutfinal/kaggle/working/badlad2/image/*.jpg')"
   ]
  },
  {
   "cell_type": "code",
   "execution_count": 5,
   "id": "cf49901e",
   "metadata": {
    "execution": {
     "iopub.execute_input": "2024-04-10T12:56:31.176069Z",
     "iopub.status.busy": "2024-04-10T12:56:31.175431Z",
     "iopub.status.idle": "2024-04-10T12:56:31.182798Z",
     "shell.execute_reply": "2024-04-10T12:56:31.181773Z"
    },
    "papermill": {
     "duration": 0.015949,
     "end_time": "2024-04-10T12:56:31.184916",
     "exception": false,
     "start_time": "2024-04-10T12:56:31.168967",
     "status": "completed"
    },
    "tags": []
   },
   "outputs": [
    {
     "data": {
      "text/plain": [
       "1313"
      ]
     },
     "execution_count": 5,
     "metadata": {},
     "output_type": "execute_result"
    }
   ],
   "source": [
    "len(paths_img)"
   ]
  },
  {
   "cell_type": "code",
   "execution_count": 6,
   "id": "bb8ea0ad",
   "metadata": {
    "execution": {
     "iopub.execute_input": "2024-04-10T12:56:31.197169Z",
     "iopub.status.busy": "2024-04-10T12:56:31.196821Z",
     "iopub.status.idle": "2024-04-10T12:56:31.203505Z",
     "shell.execute_reply": "2024-04-10T12:56:31.202565Z"
    },
    "papermill": {
     "duration": 0.015081,
     "end_time": "2024-04-10T12:56:31.205410",
     "exception": false,
     "start_time": "2024-04-10T12:56:31.190329",
     "status": "completed"
    },
    "tags": []
   },
   "outputs": [
    {
     "data": {
      "text/plain": [
       "'image_102_jpg.rf.775aab73d9c5482919ff4d6c3dd7fe81.jpg'"
      ]
     },
     "execution_count": 6,
     "metadata": {},
     "output_type": "execute_result"
    }
   ],
   "source": [
    "os.path.basename(paths_img[0])"
   ]
  },
  {
   "cell_type": "code",
   "execution_count": 7,
   "id": "011016b3",
   "metadata": {
    "execution": {
     "iopub.execute_input": "2024-04-10T12:56:31.221058Z",
     "iopub.status.busy": "2024-04-10T12:56:31.220286Z",
     "iopub.status.idle": "2024-04-10T12:56:31.228072Z",
     "shell.execute_reply": "2024-04-10T12:56:31.226680Z"
    },
    "papermill": {
     "duration": 0.018738,
     "end_time": "2024-04-10T12:56:31.230299",
     "exception": false,
     "start_time": "2024-04-10T12:56:31.211561",
     "status": "completed"
    },
    "tags": []
   },
   "outputs": [],
   "source": [
    "filenames = [os.path.basename(p) for p in paths_img]"
   ]
  },
  {
   "cell_type": "code",
   "execution_count": 8,
   "id": "200f2519",
   "metadata": {
    "execution": {
     "iopub.execute_input": "2024-04-10T12:56:31.244763Z",
     "iopub.status.busy": "2024-04-10T12:56:31.244453Z",
     "iopub.status.idle": "2024-04-10T12:56:31.250133Z",
     "shell.execute_reply": "2024-04-10T12:56:31.249149Z"
    },
    "papermill": {
     "duration": 0.015586,
     "end_time": "2024-04-10T12:56:31.252368",
     "exception": false,
     "start_time": "2024-04-10T12:56:31.236782",
     "status": "completed"
    },
    "tags": []
   },
   "outputs": [
    {
     "data": {
      "text/plain": [
       "['image_102_jpg.rf.775aab73d9c5482919ff4d6c3dd7fe81.jpg',\n",
       " 'image_429_png.rf.2111c70b4d35b470b9498b44d48ebc53.jpg',\n",
       " 'image_37_png.rf.734410434905dd2cb51ce5d891a8e15b.jpg']"
      ]
     },
     "execution_count": 8,
     "metadata": {},
     "output_type": "execute_result"
    }
   ],
   "source": [
    "filenames[:3]"
   ]
  },
  {
   "cell_type": "code",
   "execution_count": 9,
   "id": "78afb2ff",
   "metadata": {
    "execution": {
     "iopub.execute_input": "2024-04-10T12:56:31.264991Z",
     "iopub.status.busy": "2024-04-10T12:56:31.264666Z",
     "iopub.status.idle": "2024-04-10T12:56:31.270146Z",
     "shell.execute_reply": "2024-04-10T12:56:31.269161Z"
    },
    "papermill": {
     "duration": 0.01418,
     "end_time": "2024-04-10T12:56:31.272265",
     "exception": false,
     "start_time": "2024-04-10T12:56:31.258085",
     "status": "completed"
    },
    "tags": []
   },
   "outputs": [
    {
     "data": {
      "text/plain": [
       "dict_keys(['images', 'annotations', 'info', 'licenses', 'categories'])"
      ]
     },
     "execution_count": 9,
     "metadata": {},
     "output_type": "execute_result"
    }
   ],
   "source": [
    "data.keys()"
   ]
  },
  {
   "cell_type": "code",
   "execution_count": 10,
   "id": "da4c6dee",
   "metadata": {
    "execution": {
     "iopub.execute_input": "2024-04-10T12:56:31.288113Z",
     "iopub.status.busy": "2024-04-10T12:56:31.287635Z",
     "iopub.status.idle": "2024-04-10T12:56:31.294554Z",
     "shell.execute_reply": "2024-04-10T12:56:31.293767Z"
    },
    "papermill": {
     "duration": 0.015999,
     "end_time": "2024-04-10T12:56:31.296419",
     "exception": false,
     "start_time": "2024-04-10T12:56:31.280420",
     "status": "completed"
    },
    "tags": []
   },
   "outputs": [
    {
     "data": {
      "text/plain": [
       "[{'id': 0,\n",
       "  'license': 1,\n",
       "  'file_name': 'image_42_jpg.rf.1b2747e6a493ba9bbf6c189f47c9004e.jpg',\n",
       "  'height': 4080,\n",
       "  'width': 3072,\n",
       "  'date_captured': '2024-03-14T14:49:22+00:00'},\n",
       " {'id': 1,\n",
       "  'license': 1,\n",
       "  'file_name': 'image_69_jpg.rf.1df642ec28cf0807b6580d1ca6140ac4.jpg',\n",
       "  'height': 4080,\n",
       "  'width': 3072,\n",
       "  'date_captured': '2024-03-14T14:49:22+00:00'},\n",
       " {'id': 2,\n",
       "  'license': 1,\n",
       "  'file_name': 'image_77_jpg.rf.3e357d3367971b3874e937d894aef0de.jpg',\n",
       "  'height': 4080,\n",
       "  'width': 3072,\n",
       "  'date_captured': '2024-03-14T14:49:22+00:00'}]"
      ]
     },
     "execution_count": 10,
     "metadata": {},
     "output_type": "execute_result"
    }
   ],
   "source": [
    "data['images'][:3]"
   ]
  },
  {
   "cell_type": "code",
   "execution_count": 11,
   "id": "3df5cb24",
   "metadata": {
    "execution": {
     "iopub.execute_input": "2024-04-10T12:56:31.309465Z",
     "iopub.status.busy": "2024-04-10T12:56:31.308941Z",
     "iopub.status.idle": "2024-04-10T12:56:31.316612Z",
     "shell.execute_reply": "2024-04-10T12:56:31.315741Z"
    },
    "papermill": {
     "duration": 0.016508,
     "end_time": "2024-04-10T12:56:31.318599",
     "exception": false,
     "start_time": "2024-04-10T12:56:31.302091",
     "status": "completed"
    },
    "tags": []
   },
   "outputs": [
    {
     "data": {
      "text/plain": [
       "[{'id': 0,\n",
       "  'image_id': 0,\n",
       "  'category_id': 0,\n",
       "  'bbox': [710, 236, 883.2, 427.125],\n",
       "  'area': 377236.8,\n",
       "  'segmentation': [[710.4,\n",
       "    235.875,\n",
       "    710.4,\n",
       "    650.25,\n",
       "    715.2,\n",
       "    656.625,\n",
       "    1238.4,\n",
       "    656.625,\n",
       "    1243.2,\n",
       "    663,\n",
       "    1579.2,\n",
       "    663,\n",
       "    1584,\n",
       "    656.625,\n",
       "    1588.8,\n",
       "    656.625,\n",
       "    1593.6,\n",
       "    650.25,\n",
       "    1593.6,\n",
       "    255,\n",
       "    1579.2,\n",
       "    255,\n",
       "    1574.4,\n",
       "    248.625,\n",
       "    1560,\n",
       "    248.625,\n",
       "    1550.4,\n",
       "    235.875,\n",
       "    1209.6,\n",
       "    235.875,\n",
       "    1200,\n",
       "    248.625,\n",
       "    1094.4,\n",
       "    248.625,\n",
       "    1084.8,\n",
       "    235.875]],\n",
       "  'iscrowd': 0},\n",
       " {'id': 1,\n",
       "  'image_id': 0,\n",
       "  'category_id': 0,\n",
       "  'bbox': [163, 402, 129.6, 178.5],\n",
       "  'area': 23133.6,\n",
       "  'segmentation': [[163.2,\n",
       "    401.625,\n",
       "    163.2,\n",
       "    580.125,\n",
       "    283.2,\n",
       "    580.125,\n",
       "    288,\n",
       "    573.75,\n",
       "    288,\n",
       "    567.375,\n",
       "    292.8,\n",
       "    561,\n",
       "    292.8,\n",
       "    401.625]],\n",
       "  'iscrowd': 0},\n",
       " {'id': 2,\n",
       "  'image_id': 0,\n",
       "  'category_id': 1,\n",
       "  'bbox': [1690, 2843, 9.6, 19.125],\n",
       "  'area': 183.6,\n",
       "  'segmentation': [[1694.4,\n",
       "    2843.25,\n",
       "    1694.4,\n",
       "    2856,\n",
       "    1689.6,\n",
       "    2862.375,\n",
       "    1699.2,\n",
       "    2862.375,\n",
       "    1699.2,\n",
       "    2843.25]],\n",
       "  'iscrowd': 0}]"
      ]
     },
     "execution_count": 11,
     "metadata": {},
     "output_type": "execute_result"
    }
   ],
   "source": [
    "data['annotations'][:3]"
   ]
  },
  {
   "cell_type": "code",
   "execution_count": 12,
   "id": "f23b4b11",
   "metadata": {
    "execution": {
     "iopub.execute_input": "2024-04-10T12:56:31.331431Z",
     "iopub.status.busy": "2024-04-10T12:56:31.331160Z",
     "iopub.status.idle": "2024-04-10T12:56:31.335984Z",
     "shell.execute_reply": "2024-04-10T12:56:31.335059Z"
    },
    "papermill": {
     "duration": 0.013615,
     "end_time": "2024-04-10T12:56:31.337971",
     "exception": false,
     "start_time": "2024-04-10T12:56:31.324356",
     "status": "completed"
    },
    "tags": []
   },
   "outputs": [],
   "source": [
    "filename_map = { flname: '{:06d}.jpg'.format(i) for i, flname in enumerate(filenames)}"
   ]
  },
  {
   "cell_type": "code",
   "execution_count": 13,
   "id": "c8d8ec46",
   "metadata": {
    "execution": {
     "iopub.execute_input": "2024-04-10T12:56:31.350901Z",
     "iopub.status.busy": "2024-04-10T12:56:31.350590Z",
     "iopub.status.idle": "2024-04-10T12:56:31.354241Z",
     "shell.execute_reply": "2024-04-10T12:56:31.353333Z"
    },
    "papermill": {
     "duration": 0.012419,
     "end_time": "2024-04-10T12:56:31.356206",
     "exception": false,
     "start_time": "2024-04-10T12:56:31.343787",
     "status": "completed"
    },
    "tags": []
   },
   "outputs": [],
   "source": [
    "from shutil import copy\n",
    "from copy import deepcopy"
   ]
  },
  {
   "cell_type": "code",
   "execution_count": 14,
   "id": "e235007e",
   "metadata": {
    "execution": {
     "iopub.execute_input": "2024-04-10T12:56:31.369381Z",
     "iopub.status.busy": "2024-04-10T12:56:31.369106Z",
     "iopub.status.idle": "2024-04-10T12:56:47.455377Z",
     "shell.execute_reply": "2024-04-10T12:56:47.454385Z"
    },
    "papermill": {
     "duration": 16.095511,
     "end_time": "2024-04-10T12:56:47.457778",
     "exception": false,
     "start_time": "2024-04-10T12:56:31.362267",
     "status": "completed"
    },
    "tags": []
   },
   "outputs": [],
   "source": [
    "data_new = deepcopy(data)"
   ]
  },
  {
   "cell_type": "code",
   "execution_count": 15,
   "id": "789f3e22",
   "metadata": {
    "execution": {
     "iopub.execute_input": "2024-04-10T12:56:47.471506Z",
     "iopub.status.busy": "2024-04-10T12:56:47.471189Z",
     "iopub.status.idle": "2024-04-10T12:56:47.476881Z",
     "shell.execute_reply": "2024-04-10T12:56:47.475912Z"
    },
    "papermill": {
     "duration": 0.014944,
     "end_time": "2024-04-10T12:56:47.478961",
     "exception": false,
     "start_time": "2024-04-10T12:56:47.464017",
     "status": "completed"
    },
    "tags": []
   },
   "outputs": [],
   "source": [
    "for item in data_new['images']:\n",
    "    item['file_name'] = filename_map[item['file_name']]"
   ]
  },
  {
   "cell_type": "code",
   "execution_count": 16,
   "id": "4b6b5f37",
   "metadata": {
    "execution": {
     "iopub.execute_input": "2024-04-10T12:56:47.492231Z",
     "iopub.status.busy": "2024-04-10T12:56:47.491897Z",
     "iopub.status.idle": "2024-04-10T12:56:47.498513Z",
     "shell.execute_reply": "2024-04-10T12:56:47.497600Z"
    },
    "papermill": {
     "duration": 0.015435,
     "end_time": "2024-04-10T12:56:47.500571",
     "exception": false,
     "start_time": "2024-04-10T12:56:47.485136",
     "status": "completed"
    },
    "tags": []
   },
   "outputs": [
    {
     "data": {
      "text/plain": [
       "[{'id': 0,\n",
       "  'license': 1,\n",
       "  'file_name': 'image_42_jpg.rf.1b2747e6a493ba9bbf6c189f47c9004e.jpg',\n",
       "  'height': 4080,\n",
       "  'width': 3072,\n",
       "  'date_captured': '2024-03-14T14:49:22+00:00'},\n",
       " {'id': 1,\n",
       "  'license': 1,\n",
       "  'file_name': 'image_69_jpg.rf.1df642ec28cf0807b6580d1ca6140ac4.jpg',\n",
       "  'height': 4080,\n",
       "  'width': 3072,\n",
       "  'date_captured': '2024-03-14T14:49:22+00:00'},\n",
       " {'id': 2,\n",
       "  'license': 1,\n",
       "  'file_name': 'image_77_jpg.rf.3e357d3367971b3874e937d894aef0de.jpg',\n",
       "  'height': 4080,\n",
       "  'width': 3072,\n",
       "  'date_captured': '2024-03-14T14:49:22+00:00'}]"
      ]
     },
     "execution_count": 16,
     "metadata": {},
     "output_type": "execute_result"
    }
   ],
   "source": [
    "data['images'][:3]"
   ]
  },
  {
   "cell_type": "code",
   "execution_count": 17,
   "id": "1a0a5e44",
   "metadata": {
    "execution": {
     "iopub.execute_input": "2024-04-10T12:56:47.514594Z",
     "iopub.status.busy": "2024-04-10T12:56:47.514241Z",
     "iopub.status.idle": "2024-04-10T12:56:47.521184Z",
     "shell.execute_reply": "2024-04-10T12:56:47.520243Z"
    },
    "papermill": {
     "duration": 0.016127,
     "end_time": "2024-04-10T12:56:47.523122",
     "exception": false,
     "start_time": "2024-04-10T12:56:47.506995",
     "status": "completed"
    },
    "tags": []
   },
   "outputs": [
    {
     "data": {
      "text/plain": [
       "[{'id': 0,\n",
       "  'license': 1,\n",
       "  'file_name': '001182.jpg',\n",
       "  'height': 4080,\n",
       "  'width': 3072,\n",
       "  'date_captured': '2024-03-14T14:49:22+00:00'},\n",
       " {'id': 1,\n",
       "  'license': 1,\n",
       "  'file_name': '001076.jpg',\n",
       "  'height': 4080,\n",
       "  'width': 3072,\n",
       "  'date_captured': '2024-03-14T14:49:22+00:00'},\n",
       " {'id': 2,\n",
       "  'license': 1,\n",
       "  'file_name': '000458.jpg',\n",
       "  'height': 4080,\n",
       "  'width': 3072,\n",
       "  'date_captured': '2024-03-14T14:49:22+00:00'}]"
      ]
     },
     "execution_count": 17,
     "metadata": {},
     "output_type": "execute_result"
    }
   ],
   "source": [
    "data_new['images'][:3]"
   ]
  },
  {
   "cell_type": "code",
   "execution_count": 18,
   "id": "4cd4066c",
   "metadata": {
    "execution": {
     "iopub.execute_input": "2024-04-10T12:56:47.537494Z",
     "iopub.status.busy": "2024-04-10T12:56:47.537122Z",
     "iopub.status.idle": "2024-04-10T12:56:48.573175Z",
     "shell.execute_reply": "2024-04-10T12:56:48.572004Z"
    },
    "papermill": {
     "duration": 1.046074,
     "end_time": "2024-04-10T12:56:48.575534",
     "exception": false,
     "start_time": "2024-04-10T12:56:47.529460",
     "status": "completed"
    },
    "tags": []
   },
   "outputs": [],
   "source": [
    "!mkdir 'image'"
   ]
  },
  {
   "cell_type": "code",
   "execution_count": 19,
   "id": "c262f422",
   "metadata": {
    "execution": {
     "iopub.execute_input": "2024-04-10T12:56:48.591016Z",
     "iopub.status.busy": "2024-04-10T12:56:48.590333Z",
     "iopub.status.idle": "2024-04-10T12:57:36.564556Z",
     "shell.execute_reply": "2024-04-10T12:57:36.563600Z"
    },
    "papermill": {
     "duration": 47.984512,
     "end_time": "2024-04-10T12:57:36.566834",
     "exception": false,
     "start_time": "2024-04-10T12:56:48.582322",
     "status": "completed"
    },
    "tags": []
   },
   "outputs": [],
   "source": [
    "for p in paths_img:\n",
    "    src = p\n",
    "    flname = os.path.basename(src)\n",
    "    dst = os.path.join('image', filename_map[flname])\n",
    "    copy(src, dst)"
   ]
  },
  {
   "cell_type": "code",
   "execution_count": 20,
   "id": "eb8d5865",
   "metadata": {
    "execution": {
     "iopub.execute_input": "2024-04-10T12:57:36.581261Z",
     "iopub.status.busy": "2024-04-10T12:57:36.580850Z",
     "iopub.status.idle": "2024-04-10T12:57:37.618670Z",
     "shell.execute_reply": "2024-04-10T12:57:37.617459Z"
    },
    "papermill": {
     "duration": 1.04796,
     "end_time": "2024-04-10T12:57:37.621412",
     "exception": false,
     "start_time": "2024-04-10T12:57:36.573452",
     "status": "completed"
    },
    "tags": []
   },
   "outputs": [
    {
     "name": "stdout",
     "output_type": "stream",
     "text": [
      "1313\r\n"
     ]
    }
   ],
   "source": [
    "!ls image | wc -l"
   ]
  },
  {
   "cell_type": "code",
   "execution_count": 21,
   "id": "fcd5005a",
   "metadata": {
    "execution": {
     "iopub.execute_input": "2024-04-10T12:57:37.637110Z",
     "iopub.status.busy": "2024-04-10T12:57:37.636722Z",
     "iopub.status.idle": "2024-04-10T12:57:37.643545Z",
     "shell.execute_reply": "2024-04-10T12:57:37.642841Z"
    },
    "papermill": {
     "duration": 0.017191,
     "end_time": "2024-04-10T12:57:37.645698",
     "exception": false,
     "start_time": "2024-04-10T12:57:37.628507",
     "status": "completed"
    },
    "tags": []
   },
   "outputs": [],
   "source": [
    "json.dump(filename_map,open('filename_map.json','w'))"
   ]
  },
  {
   "cell_type": "code",
   "execution_count": 22,
   "id": "595f1ac3",
   "metadata": {
    "execution": {
     "iopub.execute_input": "2024-04-10T12:57:37.660708Z",
     "iopub.status.busy": "2024-04-10T12:57:37.659802Z",
     "iopub.status.idle": "2024-04-10T12:57:58.174261Z",
     "shell.execute_reply": "2024-04-10T12:57:58.173337Z"
    },
    "papermill": {
     "duration": 20.524309,
     "end_time": "2024-04-10T12:57:58.176584",
     "exception": false,
     "start_time": "2024-04-10T12:57:37.652275",
     "status": "completed"
    },
    "tags": []
   },
   "outputs": [],
   "source": [
    "json.dump(data_new,open('modified_coco_renamed_image.json','w'))"
   ]
  }
 ],
 "metadata": {
  "kaggle": {
   "accelerator": "none",
   "dataSources": [
    {
     "datasetId": 4632348,
     "sourceId": 7890201,
     "sourceType": "datasetVersion"
    }
   ],
   "dockerImageVersionId": 30684,
   "isGpuEnabled": false,
   "isInternetEnabled": true,
   "language": "python",
   "sourceType": "notebook"
  },
  "kernelspec": {
   "display_name": "Python 3",
   "language": "python",
   "name": "python3"
  },
  "language_info": {
   "codemirror_mode": {
    "name": "ipython",
    "version": 3
   },
   "file_extension": ".py",
   "mimetype": "text/x-python",
   "name": "python",
   "nbconvert_exporter": "python",
   "pygments_lexer": "ipython3",
   "version": "3.10.13"
  },
  "papermill": {
   "default_parameters": {},
   "duration": 99.610307,
   "end_time": "2024-04-10T12:58:00.107981",
   "environment_variables": {},
   "exception": null,
   "input_path": "__notebook__.ipynb",
   "output_path": "__notebook__.ipynb",
   "parameters": {},
   "start_time": "2024-04-10T12:56:20.497674",
   "version": "2.5.0"
  }
 },
 "nbformat": 4,
 "nbformat_minor": 5
}
